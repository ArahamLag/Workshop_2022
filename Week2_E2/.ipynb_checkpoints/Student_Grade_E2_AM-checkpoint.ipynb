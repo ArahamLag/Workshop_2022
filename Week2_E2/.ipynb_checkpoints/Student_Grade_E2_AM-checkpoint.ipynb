{
 "cells": [
  {
   "cell_type": "code",
   "execution_count": null,
   "id": "23cb8d55-4b90-4217-b74d-c0712c32f633",
   "metadata": {},
   "outputs": [
    {
     "name": "stdin",
     "output_type": "stream",
     "text": [
      "Select action number: 1)add, 2)search, 3)update, 4)delete or 5)print ? : 1\n",
      "Enter Student Name:  Araham\n",
      "Enter Student Grade [0-100]:  87\n"
     ]
    },
    {
     "name": "stdout",
     "output_type": "stream",
     "text": [
      "Student Added\n"
     ]
    },
    {
     "name": "stdin",
     "output_type": "stream",
     "text": [
      "Select another option/action:? : Y/N Y\n",
      "Select action number: 1)add, 2)search, 3)update, 4)delete or 5)print ? : 5\n"
     ]
    },
    {
     "name": "stdout",
     "output_type": "stream",
     "text": [
      "{'Araham': 87.0}\n",
      "list has been printed\n"
     ]
    }
   ],
   "source": [
    "## Credated/Costumized by Referencing: Ashlynn Steeves 2022\n",
    "\n",
    "grade_dict = {}\n",
    "\n",
    "Selected_Oper = int(input('Select action number: 1)add, 2)search, 3)update, 4)delete or 5)print ? :'))\n",
    "\n",
    "def add_student(N,G):\n",
    "    global grade_dict\n",
    "    grade_dict[N] = G\n",
    "    return(grade_dict)\n",
    "\n",
    "def search_student(N):\n",
    "    global grade_dict\n",
    "    try:\n",
    "        G = grade_dict[N]\n",
    "        print(N,G)\n",
    "        return G\n",
    "    except:\n",
    "        print('Grade Not Found')\n",
    "        return('NA')\n",
    "\n",
    "def delete_student(N):\n",
    "    global grade_dict\n",
    "    del grade_dict[N]\n",
    "    return(grade_dict)\n",
    "\n",
    "def print_dict():\n",
    "    global grade_dict\n",
    "    print(grade_dict)\n",
    "\n",
    "def operation(Selected_Oper):\n",
    "    global grade_dict\n",
    "    if Selected_Oper == 1:\n",
    "        N = str(input(\"Enter Student Name: \"))\n",
    "        G = float(input(\"Enter Student Grade [0-100]: \"))\n",
    "        grade_dict = add_student(N,G)\n",
    "        print('Student Added')\n",
    "     \n",
    "    elif Selected_Oper == 2:\n",
    "        N = str(input(\"Enter Searched Name: \"))\n",
    "        G = search_student(N)\n",
    "        print('Grade:', G)\n",
    "        \n",
    "    elif Selected_Oper == 3:\n",
    "        N = str(input(\"Enter Student Name To Be Updated: \"))\n",
    "        G = float(input(\"Enter Updated Grade [0-100]: \"))\n",
    "        grade_dict = add_student(N,G)\n",
    "        print('Student Updated')\n",
    "        \n",
    "    elif Selected_Oper == 4:\n",
    "        N = str(input(\"Enter Student Name To Be Deleted: \"))\n",
    "        grade_dict = delete_student(N)\n",
    "        print('Student Name has been Deleted')\n",
    "    \n",
    "    elif Selected_Oper == 5:\n",
    "        grade_dict = print_dict()\n",
    "        print('list has been printed')\n",
    "    \n",
    "    else:\n",
    "        print('Selected Option Not Available')\n",
    "    \n",
    "    Selected_Oper1 = str(input('Select another option/action:? : Y/N'))\n",
    "    if Selected_Oper1 == 'N':\n",
    "        print('Action Completed')\n",
    "    elif Selected_Oper1 == 'Y':\n",
    "        Selected_Oper1 = int(input('Select action number: 1)add, 2)search, 3)update, 4)delete or 5)print ? :'))\n",
    "        operation(Selected_Oper1)\n",
    "    else:\n",
    "        print('Selected Option Not Available')\n",
    "\n",
    "\n",
    "operation(Selected_Oper)"
   ]
  },
  {
   "cell_type": "code",
   "execution_count": null,
   "id": "f1457836-8f30-4262-a95d-2b9ebb8b1682",
   "metadata": {},
   "outputs": [],
   "source": []
  },
  {
   "cell_type": "code",
   "execution_count": null,
   "id": "22efcfbd-493e-44f5-a4da-7be9b7737b1e",
   "metadata": {},
   "outputs": [],
   "source": []
  }
 ],
 "metadata": {
  "kernelspec": {
   "display_name": "Python 3 (ipykernel)",
   "language": "python",
   "name": "python3"
  },
  "language_info": {
   "codemirror_mode": {
    "name": "ipython",
    "version": 3
   },
   "file_extension": ".py",
   "mimetype": "text/x-python",
   "name": "python",
   "nbconvert_exporter": "python",
   "pygments_lexer": "ipython3",
   "version": "3.10.4"
  }
 },
 "nbformat": 4,
 "nbformat_minor": 5
}
