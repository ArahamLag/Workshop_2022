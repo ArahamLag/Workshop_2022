{
 "cells": [
  {
   "cell_type": "code",
   "execution_count": 6,
   "id": "f1ec313d-8778-42e5-a008-de1ae091c949",
   "metadata": {},
   "outputs": [
    {
     "name": "stdin",
     "output_type": "stream",
     "text": [
      "Enter First Number: 3\n",
      "Enter Second Number: 9\n"
     ]
    },
    {
     "name": "stdout",
     "output_type": "stream",
     "text": [
      "Value of A =  3.0\n",
      "Value of B =  9.0\n"
     ]
    },
    {
     "name": "stdin",
     "output_type": "stream",
     "text": [
      "Select number for the first operation you would like to Perform: 1: exponentiation, 2: multiplication, 3: division, 4: addition, 5:substraction 4\n"
     ]
    },
    {
     "name": "stdout",
     "output_type": "stream",
     "text": [
      "12.0\n"
     ]
    },
    {
     "name": "stdin",
     "output_type": "stream",
     "text": [
      "Enter Third Number: 2\n"
     ]
    },
    {
     "name": "stdout",
     "output_type": "stream",
     "text": [
      "Value of C =  2.0\n",
      "387420489.0\n",
      "54.0\n",
      "0.16666666666666666\n",
      "-8.0\n",
      "14.0\n"
     ]
    }
   ],
   "source": [
    "# Request the User for two Float Number Inputs\n",
    "#PEMDAS\n",
    "\n",
    "A = float(input(\"Enter First Number:\"))\n",
    "B = float(input(\"Enter Second Number:\"))\n",
    "print( \"Value of A = \", A)\n",
    "print( \"Value of B = \", B)\n",
    "\n",
    "Selected_Oper= int(input(\"Select number for the first operation you would like to Perform: 1: exponentiation, 2: multiplication, 3: division, 4: addition, 5:substraction\"))\n",
    "\n",
    "\n",
    "def exponentiation():\n",
    "    global Select_Oper\n",
    "    print(\"Select operation to perform\")\n",
    "    print(\"1. A**B  or 2. B**A\")\n",
    "    Op = int(input(\"Select_Operation:\"))\n",
    "    if (Op != 2):\n",
    "        print(A**B) \n",
    "    else:\n",
    "        print(B**A)\n",
    "   \n",
    "            \n",
    "def multiplication():\n",
    "    global Select_Oper\n",
    "    print(A*B)\n",
    "\n",
    "\n",
    "def division():\n",
    "    global Select_Oper\n",
    "    print(\"Select operation to perform\")\n",
    "    print(\"1. A/B  or 2. B/A\")\n",
    "    Op = int(input(\"Select_Operation:\"))\n",
    "    if (Op == 2):\n",
    "          print(B/A)\n",
    "    else:\n",
    "          print(A/B)\n",
    "\n",
    "\n",
    "def addition():\n",
    "    global Select_Oper\n",
    "    print(B+A)\n",
    "    \n",
    "def substraction():\n",
    "    global Select_Oper\n",
    "    print(\"Select operation to perform\")\n",
    "    print(\"1. A-B  or 2. B-A\")\n",
    "    Op = int(input(\"Select_Operation:\"))\n",
    "    if (Op == 1):\n",
    "          print(A-B)\n",
    "    else:\n",
    "          print(B-A)\n",
    "\n",
    "            \n",
    "def operation(oper):\n",
    "    return Select_Oper.get(oper)()\n",
    "\n",
    "\n",
    "Select_Oper = {1: exponentiation, 2: multiplication, 3: division, 4: addition, 5:substraction} \n",
    "\n",
    "operation(Selected_Oper)\n",
    "\n",
    "C = float(input(\"Enter Third Number:\"))\n",
    "print( \"Value of C = \", C)\n",
    "\n",
    "R1= A**B\n",
    "R2= A*B\n",
    "R3= A/B\n",
    "R4= A-B\n",
    "R5= A+B\n",
    " \n",
    "#Power \n",
    "print(R1**C)\n",
    "\n",
    "#Multiply C\n",
    "print(R2*C)\n",
    "\n",
    "#Divide C\n",
    "print(R3/C)\n",
    "\n",
    "#Substract C\n",
    "print(R4-C)\n",
    "\n",
    "#Add C\n",
    "print(R5+C)"
   ]
  }
 ],
 "metadata": {
  "kernelspec": {
   "display_name": "Python 3 (ipykernel)",
   "language": "python",
   "name": "python3"
  },
  "language_info": {
   "codemirror_mode": {
    "name": "ipython",
    "version": 3
   },
   "file_extension": ".py",
   "mimetype": "text/x-python",
   "name": "python",
   "nbconvert_exporter": "python",
   "pygments_lexer": "ipython3",
   "version": "3.10.4"
  }
 },
 "nbformat": 4,
 "nbformat_minor": 5
}
